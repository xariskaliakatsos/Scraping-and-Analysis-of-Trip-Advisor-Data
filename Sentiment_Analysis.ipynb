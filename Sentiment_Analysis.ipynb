{
 "cells": [
  {
   "cell_type": "code",
   "execution_count": 1,
   "id": "9fab2dbd",
   "metadata": {},
   "outputs": [
    {
     "name": "stderr",
     "output_type": "stream",
     "text": [
      "[nltk_data] Downloading package punkt to\n",
      "[nltk_data]     C:\\Users\\xaris\\AppData\\Roaming\\nltk_data...\n",
      "[nltk_data]   Package punkt is already up-to-date!\n",
      "[nltk_data] Downloading package stopwords to\n",
      "[nltk_data]     C:\\Users\\xaris\\AppData\\Roaming\\nltk_data...\n",
      "[nltk_data]   Package stopwords is already up-to-date!\n"
     ]
    }
   ],
   "source": [
    "#Import Libraries\n",
    "import pandas as pd\n",
    "import string\n",
    "import nltk\n",
    "from nltk import word_tokenize\n",
    "from nltk.stem import PorterStemmer\n",
    "from nltk.corpus import stopwords\n",
    "import math\n",
    "import numpy as np\n",
    "import matplotlib.pyplot as plt\n",
    "import seaborn as sns\n",
    "from pandas import Series, DataFrame\n",
    "from matplotlib import rcParams\n",
    "import pandas as pd\n",
    "from collections import Counter\n",
    "from itertools import chain\n",
    "#from wordcloud import WordCloud, STOPWORDS\n",
    "import re\n",
    "import warnings\n",
    "warnings.filterwarnings(\"ignore\")\n",
    "import collections\n",
    "import os\n",
    "from matplotlib import pyplot as plt\n",
    "import matplotlib.colors as mcolors\n",
    "rcParams['figure.figsize'] = 20,12\n",
    "ps = PorterStemmer()\n",
    "nltk.download('punkt')\n",
    "nltk.download('stopwords')\n",
    "stop = stopwords.words('english')"
   ]
  },
  {
   "cell_type": "code",
   "execution_count": 2,
   "id": "bda0f6cf",
   "metadata": {},
   "outputs": [],
   "source": [
    "#load the data\n",
    "reviews = pd.read_csv(r\"reviews_all_new.csv\")\n",
    "#drop unwanted column\n",
    "reviews.drop(columns = [\"Unnamed: 0\"], inplace = True)\n",
    "stop1 = ['food','good','nice','price','place','servic','restaur','visit','friendli','thessaloniki','order','great','dish','recommend','amaz','one','realli','us','serv','staff','qualiti','’','time', 'tri', 'experi', 'come', 'small', 'local', 'even', 'excel', 'reason', 'atmospher', 'best', 'love', 'enjoy', 'would', 'greek', 'well', 'also', 'fresh', 'back', 'like', 'tast', 'wine', 'definit', 'tabl', 'offer', 'menu', 'salad', 'drink', 'waiter', 'tradit', 'tasti', 'delici', 'day', 'peopl', 'go', 'meal', 'fish', 'dinner', 'eat', 'cook', 'portion', 'look', 'meat', 'citi', 'everyth', 'music', 'locat', 'lunch','town', 'warm', 'year', 'outsid', 'street', 'chicken', 'coffe', 'night', 'perfect', 'much', 'want', 'view', 'got', 'plate', 'littl', 'sea', 'expect', 'owner', 'ok', 'make', 'way', 'next', 'sit', 'wait', 'pizza', 'friend', 'cuisin', 'high', 'lot', 'differ', 'kind', 'noth', 'special', 'choic', 'decor', 'live', 'greec', 'alway', 'center', 'better', 'bread', 'ask', 'help', 'dont', 'get', 'mani', 'top', 'fantast', 'thing', 'say', 'two', 'first', 'didnt', 'busi', 'went', 'came', 'cours', 'though', 'polit', 'find', 'fast', 'end', 'grill', 'take', 'found', 'ever', 'quit', 'euro', 'wonder', 'everi', 'starter', 'bar', 'area', 'main', '2', 'full', 'hous', 'highli', 'could', 'burger', 'chees', 'made', 'big', 'valu', 'must', 'select', 'smoke', 'beauti', 'last', 'around', 'someth', 'varieti', 'money', 'feel', 'fri', 'beer', 'seafood', 'bit', 'insid', 'sure', 'worth', 'expens', 'disappoint', 'need', 'ate', 'famili', 'dessert','\\\"','”','“']"
   ]
  },
  {
   "cell_type": "markdown",
   "id": "5b7ba677",
   "metadata": {},
   "source": [
    "# Preprocessing "
   ]
  },
  {
   "cell_type": "code",
   "execution_count": 3,
   "id": "3fca5522",
   "metadata": {},
   "outputs": [],
   "source": [
    "# Remove punctuation\n",
    "reviews['Review'] = reviews['Review'].apply(lambda x:''.join([i for i in x if i not in string.punctuation]))\n",
    "#Lower case everything\n",
    "reviews['Review'] = reviews['Review'].str.lower()\n",
    "reviews['Review_Distribution'] = reviews['Review_Distribution'].str.lower()\n",
    "#Tokenize the reviews\n",
    "reviews['Review'] = reviews.apply(lambda row: nltk.word_tokenize(row['Review']), axis=1)\n",
    "#Remove stopwords\n",
    "reviews['Review'] = reviews['Review'].apply(lambda x: [item for item in x if item not in stop])\n",
    "#Stemming\n",
    "reviews['Review'] = reviews['Review'].apply(lambda x: [ps.stem(y) for y in x])\n",
    "\n",
    "#get the month\n",
    "reviews['Rating_Month'] = reviews[\"Rating_date\"].str.split(\" \").str[0]\n",
    "#get the year\n",
    "reviews['Rating_Year'] = reviews[\"Rating_date\"].str.split(\",\").str[1]\n",
    "reviews['Rating_Year'] = reviews[\"Rating_Year\"].str.replace(\" \",\"\")\n",
    "\n",
    "#Create a new dataframe that contains the reviews and remove the extra stopwords\n",
    "reviews_lda = reviews.copy()\n",
    "reviews_lda['Review'] = reviews_lda['Review'].apply(lambda x: [item for item in x if item not in stop1])"
   ]
  },
  {
   "cell_type": "markdown",
   "id": "a8b3633c",
   "metadata": {},
   "source": [
    "# Sentiment Analysis"
   ]
  },
  {
   "cell_type": "code",
   "execution_count": 39,
   "id": "c2aa1567",
   "metadata": {},
   "outputs": [],
   "source": [
    "from textblob import TextBlob"
   ]
  },
  {
   "cell_type": "markdown",
   "id": "4699005a",
   "metadata": {},
   "source": [
    "## Polarity Score"
   ]
  },
  {
   "cell_type": "code",
   "execution_count": 40,
   "id": "728636ba",
   "metadata": {},
   "outputs": [],
   "source": [
    "#Calculate the polarity of a text\n",
    "def getPolarity(text):\n",
    "    return TextBlob(text).sentiment.polarity\n",
    "\n",
    "#Unify a list of words and separate them by whitespace\n",
    "def list_to_txt(item):\n",
    "    str =' '.join(item)\n",
    "    return str"
   ]
  },
  {
   "cell_type": "code",
   "execution_count": 41,
   "id": "73a6ece3",
   "metadata": {},
   "outputs": [],
   "source": [
    "#Unify the tokens that each review contains\n",
    "unified_reviews_txt = list(map(list_to_txt, reviews[\"Review\"]))\n",
    "\n",
    "#Calculate the polarity of each review and store it in a dataframe\n",
    "polarities = list(map(getPolarity, unified_reviews_txt))\n",
    "polarities_df = pd.DataFrame(data = [unified_reviews_txt, polarities]).T\n",
    "\n",
    "#Sort the reviews based on their polarity\n",
    "polarities_df_sorted = polarities_df.sort_values(by = 1)"
   ]
  },
  {
   "cell_type": "code",
   "execution_count": 42,
   "id": "9210c213",
   "metadata": {},
   "outputs": [],
   "source": [
    "polarity_scores_for_concat = polarities_df[1]"
   ]
  },
  {
   "cell_type": "code",
   "execution_count": 43,
   "id": "fafe93f2",
   "metadata": {},
   "outputs": [
    {
     "data": {
      "text/plain": [
       "2257     eat hungri believ one worst place ever eat nev...\n",
       "11291    eat worst thing vacat seafood frozen wait 15 h...\n",
       "14358    dirti place terribl servic waiter behav improp...\n",
       "5232     one day order spetsofai mayb worst food ive ev...\n",
       "1875     rudenessaw servic treat u like anim credit car...\n",
       "Name: 0, dtype: object"
      ]
     },
     "execution_count": 43,
     "metadata": {},
     "output_type": "execute_result"
    }
   ],
   "source": [
    "#Print the top-5 negative reviews\n",
    "polarities_df_sorted[0][0:5]"
   ]
  },
  {
   "cell_type": "code",
   "execution_count": 44,
   "id": "d0d929e8",
   "metadata": {},
   "outputs": [
    {
     "data": {
      "text/plain": [
       "7531     best icecream staff friendli environ come ever...\n",
       "8024     food servic perfect lot thing choos tast food ...\n",
       "6293     marvel restaur exquisit cuicineexcel servic be...\n",
       "8672     omgthi probabl best steak ever lot steaksw com...\n",
       "13417    that place best brunch citi drop lunch cocktai...\n",
       "Name: 0, dtype: object"
      ]
     },
     "execution_count": 44,
     "metadata": {},
     "output_type": "execute_result"
    }
   ],
   "source": [
    "#Print the top-5 positive reviews\n",
    "polarities_df_sorted[0][-6:-1]"
   ]
  },
  {
   "cell_type": "markdown",
   "id": "81afeb7d",
   "metadata": {},
   "source": [
    "## Most Common Words in Positive and Negative Reviews"
   ]
  },
  {
   "cell_type": "code",
   "execution_count": 45,
   "id": "ea10d6b3",
   "metadata": {},
   "outputs": [],
   "source": [
    "#Split the positive and negative reviews in separate dataframes\n",
    "positive_reviews_df = polarities_df_sorted[polarities_df[1] > 0]\n",
    "negative_reviews_df = polarities_df_sorted[polarities_df[1] < 0]"
   ]
  },
  {
   "cell_type": "code",
   "execution_count": 46,
   "id": "626d1407",
   "metadata": {},
   "outputs": [],
   "source": [
    "#Store the words that are used in positive reviews and count their frequency.\n",
    "word_count_positive = positive_reviews_df[0].str.split(expand = True).stack().value_counts()\n",
    "#Extract the 20 most frequent words in positive reviews\n",
    "most_positive_words = word_count_positive[0:20]\n",
    "\n",
    "#Store the words that are used in negative reviews and count their frequency.\n",
    "word_count_negative = negative_reviews_df[0].str.split(expand = True).stack().value_counts()\n",
    "#Extract the 20 most frequent words in negative reviews\n",
    "most_negative_words = word_count_negative[0:20]"
   ]
  },
  {
   "cell_type": "code",
   "execution_count": 47,
   "id": "097a3db3",
   "metadata": {},
   "outputs": [
    {
     "data": {
      "text/plain": [
       "<AxesSubplot:>"
      ]
     },
     "execution_count": 47,
     "metadata": {},
     "output_type": "execute_result"
    },
    {
     "data": {
      "image/png": "[encoded data removed]",
      "text/plain": [
       "<Figure size 1440x864 with 1 Axes>"
      ]
     },
     "metadata": {
      "needs_background": "light"
     },
     "output_type": "display_data"
    }
   ],
   "source": [
    "#Create a bar plot with the 20 most frequent words in positive reviews\n",
    "most_positive_words.plot.bar()"
   ]
  },
  {
   "cell_type": "code",
   "execution_count": 48,
   "id": "a44954ca",
   "metadata": {},
   "outputs": [
    {
     "data": {
      "text/plain": [
       "<AxesSubplot:>"
      ]
     },
     "execution_count": 48,
     "metadata": {},
     "output_type": "execute_result"
    },
    {
     "data": {
      "image/png": "[encoded data removed]",
      "text/plain": [
       "<Figure size 1440x864 with 1 Axes>"
      ]
     },
     "metadata": {
      "needs_background": "light"
     },
     "output_type": "display_data"
    }
   ],
   "source": [
    "#Create a bar plot with the 20 most frequent words in negative reviews\n",
    "most_negative_words.plot.bar()"
   ]
  },
  {
   "cell_type": "markdown",
   "id": "7ea543af",
   "metadata": {},
   "source": [
    "## Polarity Score per Restaurant"
   ]
  },
  {
   "cell_type": "code",
   "execution_count": 49,
   "id": "35d458d2",
   "metadata": {},
   "outputs": [],
   "source": [
    "#Concat reviews with their polarity\n",
    "reviews_with_polarities = pd.concat([reviews, polarity_scores_for_concat], axis = 1)"
   ]
  },
  {
   "cell_type": "code",
   "execution_count": 50,
   "id": "278bd7da",
   "metadata": {},
   "outputs": [],
   "source": [
    "#The dataframe is grouped by \"restaurant\" and the mean polarity is calculated for each one\n",
    "mean_polarities_per_restaurants = reviews_with_polarities.groupby([\"Business_Name\"])[1].mean()\n",
    "df_mean_polarities_per_restaurants = pd.DataFrame(mean_polarities_per_restaurants)"
   ]
  },
  {
   "cell_type": "code",
   "execution_count": 51,
   "id": "5e38b99b",
   "metadata": {
    "scrolled": false
   },
   "outputs": [
    {
     "data": {
      "text/html": [
       "<div>\n",
       "<style scoped>\n",
       "    .dataframe tbody tr th:only-of-type {\n",
       "        vertical-align: middle;\n",
       "    }\n",
       "\n",
       "    .dataframe tbody tr th {\n",
       "        vertical-align: top;\n",
       "    }\n",
       "\n",
       "    .dataframe thead th {\n",
       "        text-align: right;\n",
       "    }\n",
       "</style>\n",
       "<table border=\"1\" class=\"dataframe\">\n",
       "  <thead>\n",
       "    <tr style=\"text-align: right;\">\n",
       "      <th></th>\n",
       "      <th>1</th>\n",
       "    </tr>\n",
       "    <tr>\n",
       "      <th>Business_Name</th>\n",
       "      <th></th>\n",
       "    </tr>\n",
       "  </thead>\n",
       "  <tbody>\n",
       "    <tr>\n",
       "      <th>AROMA CAFE</th>\n",
       "      <td>0.80</td>\n",
       "    </tr>\n",
       "    <tr>\n",
       "      <th>GRILLS AND FRIES</th>\n",
       "      <td>0.80</td>\n",
       "    </tr>\n",
       "    <tr>\n",
       "      <th>DIKTAMO</th>\n",
       "      <td>0.80</td>\n",
       "    </tr>\n",
       "    <tr>\n",
       "      <th>MAGIC BUS CAFE</th>\n",
       "      <td>0.82</td>\n",
       "    </tr>\n",
       "    <tr>\n",
       "      <th>VICKY</th>\n",
       "      <td>0.85</td>\n",
       "    </tr>\n",
       "    <tr>\n",
       "      <th>BARKO</th>\n",
       "      <td>0.90</td>\n",
       "    </tr>\n",
       "    <tr>\n",
       "      <th>OLD FACTORY CAFE</th>\n",
       "      <td>0.90</td>\n",
       "    </tr>\n",
       "    <tr>\n",
       "      <th>R2 STORE</th>\n",
       "      <td>1.00</td>\n",
       "    </tr>\n",
       "    <tr>\n",
       "      <th>SALLIARIS</th>\n",
       "      <td>1.00</td>\n",
       "    </tr>\n",
       "    <tr>\n",
       "      <th>ALMYRA + HOVOLI</th>\n",
       "      <td>1.00</td>\n",
       "    </tr>\n",
       "  </tbody>\n",
       "</table>\n",
       "</div>"
      ],
      "text/plain": [
       "                     1\n",
       "Business_Name         \n",
       "AROMA CAFE        0.80\n",
       "GRILLS AND FRIES  0.80\n",
       "DIKTAMO           0.80\n",
       "MAGIC BUS CAFE    0.82\n",
       "VICKY             0.85\n",
       "BARKO             0.90\n",
       "OLD FACTORY CAFE  0.90\n",
       "R2 STORE          1.00\n",
       "SALLIARIS         1.00\n",
       "ALMYRA + HOVOLI   1.00"
      ]
     },
     "execution_count": 51,
     "metadata": {},
     "output_type": "execute_result"
    }
   ],
   "source": [
    "#Print the 10 restaurants with the highest polarity score\n",
    "best_10_restaurants = df_mean_polarities_per_restaurants.sort_values(by = 1)[-11:-1]\n",
    "best_10_restaurants"
   ]
  },
  {
   "cell_type": "code",
   "execution_count": 52,
   "id": "05566a54",
   "metadata": {},
   "outputs": [
    {
     "data": {
      "text/html": [
       "<div>\n",
       "<style scoped>\n",
       "    .dataframe tbody tr th:only-of-type {\n",
       "        vertical-align: middle;\n",
       "    }\n",
       "\n",
       "    .dataframe tbody tr th {\n",
       "        vertical-align: top;\n",
       "    }\n",
       "\n",
       "    .dataframe thead th {\n",
       "        text-align: right;\n",
       "    }\n",
       "</style>\n",
       "<table border=\"1\" class=\"dataframe\">\n",
       "  <thead>\n",
       "    <tr style=\"text-align: right;\">\n",
       "      <th></th>\n",
       "      <th>1</th>\n",
       "    </tr>\n",
       "    <tr>\n",
       "      <th>Business_Name</th>\n",
       "      <th></th>\n",
       "    </tr>\n",
       "  </thead>\n",
       "  <tbody>\n",
       "    <tr>\n",
       "      <th>LOS HERMANOS</th>\n",
       "      <td>-1.000000</td>\n",
       "    </tr>\n",
       "    <tr>\n",
       "      <th>MINIMAL ALL DAY COFFEE HOUSE</th>\n",
       "      <td>-0.600000</td>\n",
       "    </tr>\n",
       "    <tr>\n",
       "      <th>LOONEY BEAN</th>\n",
       "      <td>-0.234848</td>\n",
       "    </tr>\n",
       "    <tr>\n",
       "      <th>ALEXANDROS NTINOS</th>\n",
       "      <td>-0.220000</td>\n",
       "    </tr>\n",
       "    <tr>\n",
       "      <th>157 STREET</th>\n",
       "      <td>-0.139286</td>\n",
       "    </tr>\n",
       "    <tr>\n",
       "      <th>SYN TROFI</th>\n",
       "      <td>-0.128472</td>\n",
       "    </tr>\n",
       "    <tr>\n",
       "      <th>MUZIK BAR CAFE</th>\n",
       "      <td>-0.122500</td>\n",
       "    </tr>\n",
       "    <tr>\n",
       "      <th>GKAZOZA MEZEDOPOLEIO BAR</th>\n",
       "      <td>-0.108058</td>\n",
       "    </tr>\n",
       "    <tr>\n",
       "      <th>FIVE FINGERS</th>\n",
       "      <td>-0.094444</td>\n",
       "    </tr>\n",
       "    <tr>\n",
       "      <th>KOYOTE DAY BAR</th>\n",
       "      <td>-0.076278</td>\n",
       "    </tr>\n",
       "  </tbody>\n",
       "</table>\n",
       "</div>"
      ],
      "text/plain": [
       "                                     1\n",
       "Business_Name                         \n",
       "LOS HERMANOS                 -1.000000\n",
       "MINIMAL ALL DAY COFFEE HOUSE -0.600000\n",
       "LOONEY BEAN                  -0.234848\n",
       "ALEXANDROS NTINOS            -0.220000\n",
       "157 STREET                   -0.139286\n",
       "SYN TROFI                    -0.128472\n",
       "MUZIK BAR CAFE               -0.122500\n",
       "GKAZOZA MEZEDOPOLEIO BAR     -0.108058\n",
       "FIVE FINGERS                 -0.094444\n",
       "KOYOTE DAY BAR               -0.076278"
      ]
     },
     "execution_count": 52,
     "metadata": {},
     "output_type": "execute_result"
    }
   ],
   "source": [
    "#Print the 10 restaurants with the lowest polarity score\n",
    "worst_10_restaurants = df_mean_polarities_per_restaurants.sort_values(by=1)[0:10]\n",
    "worst_10_restaurants"
   ]
  },
  {
   "cell_type": "code",
   "execution_count": 53,
   "id": "055bd039",
   "metadata": {},
   "outputs": [],
   "source": [
    "#Calculate the number of the reviews of each restaurant\n",
    "number_of_reviews_per_restaurants = reviews_with_polarities.groupby([\"Business_Name\"])[\"Score\"].count()\n",
    "reviews_df = pd.DataFrame([mean_polarities_per_restaurants, number_of_reviews_per_restaurants])\n",
    "reviews_df = reviews_df.T\n",
    "reviews_df.rename(columns={1:\"polarity_score\",\"Score\":\"Count_of_reviews\"}, inplace=True)\n",
    "\n",
    "#Keep restaurants that have more than 20 reviews and sort them based on their polarity score\n",
    "sorted_reviews_df = reviews_df[reviews_df[\"Count_of_reviews\"]>20].sort_values(by=\"polarity_score\")"
   ]
  },
  {
   "cell_type": "code",
   "execution_count": 54,
   "id": "aeb3fd8a",
   "metadata": {},
   "outputs": [
    {
     "data": {
      "text/html": [
       "<div>\n",
       "<style scoped>\n",
       "    .dataframe tbody tr th:only-of-type {\n",
       "        vertical-align: middle;\n",
       "    }\n",
       "\n",
       "    .dataframe tbody tr th {\n",
       "        vertical-align: top;\n",
       "    }\n",
       "\n",
       "    .dataframe thead th {\n",
       "        text-align: right;\n",
       "    }\n",
       "</style>\n",
       "<table border=\"1\" class=\"dataframe\">\n",
       "  <thead>\n",
       "    <tr style=\"text-align: right;\">\n",
       "      <th></th>\n",
       "      <th>polarity_score</th>\n",
       "      <th>Count_of_reviews</th>\n",
       "    </tr>\n",
       "    <tr>\n",
       "      <th>Business_Name</th>\n",
       "      <th></th>\n",
       "      <th></th>\n",
       "    </tr>\n",
       "  </thead>\n",
       "  <tbody>\n",
       "    <tr>\n",
       "      <th>TO KOURDISTO GOUROUNI</th>\n",
       "      <td>0.237654</td>\n",
       "      <td>36.0</td>\n",
       "    </tr>\n",
       "    <tr>\n",
       "      <th>PALATI</th>\n",
       "      <td>0.256651</td>\n",
       "      <td>30.0</td>\n",
       "    </tr>\n",
       "    <tr>\n",
       "      <th>OLIVE OIL &amp; OREGANO</th>\n",
       "      <td>0.261025</td>\n",
       "      <td>26.0</td>\n",
       "    </tr>\n",
       "    <tr>\n",
       "      <th>KOI SUSHI BAR</th>\n",
       "      <td>0.261874</td>\n",
       "      <td>32.0</td>\n",
       "    </tr>\n",
       "    <tr>\n",
       "      <th>O GYROS TIS ELLADOS</th>\n",
       "      <td>0.264169</td>\n",
       "      <td>23.0</td>\n",
       "    </tr>\n",
       "    <tr>\n",
       "      <th>...</th>\n",
       "      <td>...</td>\n",
       "      <td>...</td>\n",
       "    </tr>\n",
       "    <tr>\n",
       "      <th>RIVIERA BEACH BAR</th>\n",
       "      <td>0.411403</td>\n",
       "      <td>25.0</td>\n",
       "    </tr>\n",
       "    <tr>\n",
       "      <th>GIOK BALIK</th>\n",
       "      <td>0.411667</td>\n",
       "      <td>30.0</td>\n",
       "    </tr>\n",
       "    <tr>\n",
       "      <th>CHAN</th>\n",
       "      <td>0.412019</td>\n",
       "      <td>22.0</td>\n",
       "    </tr>\n",
       "    <tr>\n",
       "      <th>SPOON THESSALONIKI - Restaurant Reviews</th>\n",
       "      <td>0.417148</td>\n",
       "      <td>25.0</td>\n",
       "    </tr>\n",
       "    <tr>\n",
       "      <th>NARGIS INDIAN RESTAURANT</th>\n",
       "      <td>0.425369</td>\n",
       "      <td>52.0</td>\n",
       "    </tr>\n",
       "  </tbody>\n",
       "</table>\n",
       "<p>155 rows × 2 columns</p>\n",
       "</div>"
      ],
      "text/plain": [
       "                                         polarity_score  Count_of_reviews\n",
       "Business_Name                                                            \n",
       "TO KOURDISTO GOUROUNI                          0.237654              36.0\n",
       "PALATI                                         0.256651              30.0\n",
       "OLIVE OIL & OREGANO                            0.261025              26.0\n",
       "KOI SUSHI BAR                                  0.261874              32.0\n",
       "O GYROS TIS ELLADOS                            0.264169              23.0\n",
       "...                                                 ...               ...\n",
       "RIVIERA BEACH BAR                              0.411403              25.0\n",
       "GIOK BALIK                                     0.411667              30.0\n",
       "CHAN                                           0.412019              22.0\n",
       "SPOON THESSALONIKI - Restaurant Reviews        0.417148              25.0\n",
       "NARGIS INDIAN RESTAURANT                       0.425369              52.0\n",
       "\n",
       "[155 rows x 2 columns]"
      ]
     },
     "execution_count": 54,
     "metadata": {},
     "output_type": "execute_result"
    }
   ],
   "source": [
    "sorted_reviews_df"
   ]
  },
  {
   "cell_type": "code",
   "execution_count": 55,
   "id": "c2b53b22",
   "metadata": {},
   "outputs": [
    {
     "data": {
      "text/html": [
       "<div>\n",
       "<style scoped>\n",
       "    .dataframe tbody tr th:only-of-type {\n",
       "        vertical-align: middle;\n",
       "    }\n",
       "\n",
       "    .dataframe tbody tr th {\n",
       "        vertical-align: top;\n",
       "    }\n",
       "\n",
       "    .dataframe thead th {\n",
       "        text-align: right;\n",
       "    }\n",
       "</style>\n",
       "<table border=\"1\" class=\"dataframe\">\n",
       "  <thead>\n",
       "    <tr style=\"text-align: right;\">\n",
       "      <th></th>\n",
       "      <th>polarity_score</th>\n",
       "      <th>Count_of_reviews</th>\n",
       "    </tr>\n",
       "    <tr>\n",
       "      <th>Business_Name</th>\n",
       "      <th></th>\n",
       "      <th></th>\n",
       "    </tr>\n",
       "  </thead>\n",
       "  <tbody>\n",
       "    <tr>\n",
       "      <th>CHRISTOFER SEA FOOD</th>\n",
       "      <td>0.386177</td>\n",
       "      <td>23.0</td>\n",
       "    </tr>\n",
       "    <tr>\n",
       "      <th>KIOUPIA LADADIKA</th>\n",
       "      <td>0.386402</td>\n",
       "      <td>133.0</td>\n",
       "    </tr>\n",
       "    <tr>\n",
       "      <th>STAFILI</th>\n",
       "      <td>0.387195</td>\n",
       "      <td>23.0</td>\n",
       "    </tr>\n",
       "    <tr>\n",
       "      <th>ARC ESPRESSO WINE BAR</th>\n",
       "      <td>0.388047</td>\n",
       "      <td>45.0</td>\n",
       "    </tr>\n",
       "    <tr>\n",
       "      <th>U FLEKU</th>\n",
       "      <td>0.394124</td>\n",
       "      <td>23.0</td>\n",
       "    </tr>\n",
       "    <tr>\n",
       "      <th>RIVIERA BEACH BAR</th>\n",
       "      <td>0.411403</td>\n",
       "      <td>25.0</td>\n",
       "    </tr>\n",
       "    <tr>\n",
       "      <th>GIOK BALIK</th>\n",
       "      <td>0.411667</td>\n",
       "      <td>30.0</td>\n",
       "    </tr>\n",
       "    <tr>\n",
       "      <th>CHAN</th>\n",
       "      <td>0.412019</td>\n",
       "      <td>22.0</td>\n",
       "    </tr>\n",
       "    <tr>\n",
       "      <th>SPOON THESSALONIKI - Restaurant Reviews</th>\n",
       "      <td>0.417148</td>\n",
       "      <td>25.0</td>\n",
       "    </tr>\n",
       "    <tr>\n",
       "      <th>NARGIS INDIAN RESTAURANT</th>\n",
       "      <td>0.425369</td>\n",
       "      <td>52.0</td>\n",
       "    </tr>\n",
       "  </tbody>\n",
       "</table>\n",
       "</div>"
      ],
      "text/plain": [
       "                                         polarity_score  Count_of_reviews\n",
       "Business_Name                                                            \n",
       "CHRISTOFER SEA FOOD                            0.386177              23.0\n",
       "KIOUPIA LADADIKA                               0.386402             133.0\n",
       "STAFILI                                        0.387195              23.0\n",
       "ARC ESPRESSO WINE BAR                          0.388047              45.0\n",
       "U FLEKU                                        0.394124              23.0\n",
       "RIVIERA BEACH BAR                              0.411403              25.0\n",
       "GIOK BALIK                                     0.411667              30.0\n",
       "CHAN                                           0.412019              22.0\n",
       "SPOON THESSALONIKI - Restaurant Reviews        0.417148              25.0\n",
       "NARGIS INDIAN RESTAURANT                       0.425369              52.0"
      ]
     },
     "execution_count": 55,
     "metadata": {},
     "output_type": "execute_result"
    }
   ],
   "source": [
    "#Print the 10 restaurants with the largest polarity score\n",
    "top_restaurants_with_over_20_reviews = sorted_reviews_df.iloc[145:155,:]\n",
    "top_restaurants_with_over_20_reviews"
   ]
  },
  {
   "cell_type": "code",
   "execution_count": 56,
   "id": "c9bdc6f7",
   "metadata": {},
   "outputs": [
    {
     "data": {
      "text/html": [
       "<div>\n",
       "<style scoped>\n",
       "    .dataframe tbody tr th:only-of-type {\n",
       "        vertical-align: middle;\n",
       "    }\n",
       "\n",
       "    .dataframe tbody tr th {\n",
       "        vertical-align: top;\n",
       "    }\n",
       "\n",
       "    .dataframe thead th {\n",
       "        text-align: right;\n",
       "    }\n",
       "</style>\n",
       "<table border=\"1\" class=\"dataframe\">\n",
       "  <thead>\n",
       "    <tr style=\"text-align: right;\">\n",
       "      <th></th>\n",
       "      <th>polarity_score</th>\n",
       "      <th>Count_of_reviews</th>\n",
       "    </tr>\n",
       "    <tr>\n",
       "      <th>Business_Name</th>\n",
       "      <th></th>\n",
       "      <th></th>\n",
       "    </tr>\n",
       "  </thead>\n",
       "  <tbody>\n",
       "    <tr>\n",
       "      <th>TO KOURDISTO GOUROUNI</th>\n",
       "      <td>0.237654</td>\n",
       "      <td>36.0</td>\n",
       "    </tr>\n",
       "    <tr>\n",
       "      <th>PALATI</th>\n",
       "      <td>0.256651</td>\n",
       "      <td>30.0</td>\n",
       "    </tr>\n",
       "    <tr>\n",
       "      <th>OLIVE OIL &amp; OREGANO</th>\n",
       "      <td>0.261025</td>\n",
       "      <td>26.0</td>\n",
       "    </tr>\n",
       "    <tr>\n",
       "      <th>KOI SUSHI BAR</th>\n",
       "      <td>0.261874</td>\n",
       "      <td>32.0</td>\n",
       "    </tr>\n",
       "    <tr>\n",
       "      <th>O GYROS TIS ELLADOS</th>\n",
       "      <td>0.264169</td>\n",
       "      <td>23.0</td>\n",
       "    </tr>\n",
       "    <tr>\n",
       "      <th>PADRINO SKG FOOD STORIES</th>\n",
       "      <td>0.264193</td>\n",
       "      <td>40.0</td>\n",
       "    </tr>\n",
       "    <tr>\n",
       "      <th>LA PASTERIA</th>\n",
       "      <td>0.268273</td>\n",
       "      <td>21.0</td>\n",
       "    </tr>\n",
       "    <tr>\n",
       "      <th>EXTRAVAGANZA</th>\n",
       "      <td>0.277411</td>\n",
       "      <td>75.0</td>\n",
       "    </tr>\n",
       "    <tr>\n",
       "      <th>MOLYVOS RESTAURANT</th>\n",
       "      <td>0.277487</td>\n",
       "      <td>107.0</td>\n",
       "    </tr>\n",
       "    <tr>\n",
       "      <th>VOGATSIKOU 3</th>\n",
       "      <td>0.279680</td>\n",
       "      <td>53.0</td>\n",
       "    </tr>\n",
       "  </tbody>\n",
       "</table>\n",
       "</div>"
      ],
      "text/plain": [
       "                          polarity_score  Count_of_reviews\n",
       "Business_Name                                             \n",
       "TO KOURDISTO GOUROUNI           0.237654              36.0\n",
       "PALATI                          0.256651              30.0\n",
       "OLIVE OIL & OREGANO             0.261025              26.0\n",
       "KOI SUSHI BAR                   0.261874              32.0\n",
       "O GYROS TIS ELLADOS             0.264169              23.0\n",
       "PADRINO SKG FOOD STORIES        0.264193              40.0\n",
       "LA PASTERIA                     0.268273              21.0\n",
       "EXTRAVAGANZA                    0.277411              75.0\n",
       "MOLYVOS RESTAURANT              0.277487             107.0\n",
       "VOGATSIKOU 3                    0.279680              53.0"
      ]
     },
     "execution_count": 56,
     "metadata": {},
     "output_type": "execute_result"
    }
   ],
   "source": [
    "#Print the 10 restaurants with the lowest polarity score\n",
    "worst_restaurants_with_over_20_reviews = sorted_reviews_df.iloc[0:10,:]\n",
    "worst_restaurants_with_over_20_reviews"
   ]
  },
  {
   "cell_type": "code",
   "execution_count": 57,
   "id": "6530f53f",
   "metadata": {},
   "outputs": [
    {
     "data": {
      "text/plain": [
       "Business_Name\n",
       "LOS HERMANOS                   10.0\n",
       "ASIAN HOUSE TOUMPA             10.0\n",
       "MODIANO RETSINADIKO            10.0\n",
       "TAVERNA SOTIRIS                10.0\n",
       "TOMMY COFFEE HOUSE & EATERY    10.0\n",
       "                               ... \n",
       "MEZEDAKI BAR                   50.0\n",
       "MEZEDAGOGION                   50.0\n",
       "MEZALIKI                       50.0\n",
       "MERRY BERRY HEALTH BAR         50.0\n",
       "ΤΡΕΛΑ ΠΙΡΟΥΝΙΑ                 50.0\n",
       "Name: Score, Length: 689, dtype: float64"
      ]
     },
     "execution_count": 57,
     "metadata": {},
     "output_type": "execute_result"
    }
   ],
   "source": [
    "#Calculate the mean score of each restaurant\n",
    "restaurants_plus_scores = reviews.groupby([\"Business_Name\"])[\"Score\"].mean().sort_values()\n",
    "restaurants_plus_scores"
   ]
  },
  {
   "cell_type": "code",
   "execution_count": 58,
   "id": "a1fd86db",
   "metadata": {},
   "outputs": [
    {
     "data": {
      "text/plain": [
       "Business_Name\n",
       "MINIMAL ALL DAY COFFEE HOUSE    50.0\n",
       "MIMIS                           50.0\n",
       "MILONGA MEZE CLUB               50.0\n",
       "MIKRI MARMITA                   50.0\n",
       "MEZEDOPOLEIO ZAIR 79            50.0\n",
       "MEZEDAKI BAR                    50.0\n",
       "MEZEDAGOGION                    50.0\n",
       "MEZALIKI                        50.0\n",
       "MERRY BERRY HEALTH BAR          50.0\n",
       "ΤΡΕΛΑ ΠΙΡΟΥΝΙΑ                  50.0\n",
       "Name: Score, dtype: float64"
      ]
     },
     "execution_count": 58,
     "metadata": {},
     "output_type": "execute_result"
    }
   ],
   "source": [
    "#Keep the restaurant with the highest scores\n",
    "top_restaurants_by_score = restaurants_plus_scores[679:689]\n",
    "top_restaurants_by_score"
   ]
  },
  {
   "cell_type": "code",
   "execution_count": 59,
   "id": "e25ea399",
   "metadata": {},
   "outputs": [
    {
     "data": {
      "text/plain": [
       "Business_Name\n",
       "LOS HERMANOS                                   10.000000\n",
       "ASIAN HOUSE TOUMPA                             10.000000\n",
       "MODIANO RETSINADIKO                            10.000000\n",
       "TAVERNA SOTIRIS                                10.000000\n",
       "TOMMY COFFEE HOUSE & EATERY                    10.000000\n",
       "STONES RESTAURANT                              10.000000\n",
       "MELI MELO CAFE BAR                             16.666667\n",
       "SAMURAI PREMIUM STEAK HOUSE & ASIAN CUISINE    20.000000\n",
       "O AGKALITSAS                                   20.000000\n",
       "RALENTATO                                      20.000000\n",
       "Name: Score, dtype: float64"
      ]
     },
     "execution_count": 59,
     "metadata": {},
     "output_type": "execute_result"
    }
   ],
   "source": [
    "#Keep the restaurant with the lowest scores\n",
    "worst_restaurants_by_score = restaurants_plus_scores[0:10]\n",
    "worst_restaurants_by_score"
   ]
  }
 ],
 "metadata": {
  "kernelspec": {
   "display_name": "Python 3 (ipykernel)",
   "language": "python",
   "name": "python3"
  },
  "language_info": {
   "codemirror_mode": {
    "name": "ipython",
    "version": 3
   },
   "file_extension": ".py",
   "mimetype": "text/x-python",
   "name": "python",
   "nbconvert_exporter": "python",
   "pygments_lexer": "ipython3",
   "version": "3.9.7"
  }
 },
 "nbformat": 4,
 "nbformat_minor": 5
}
