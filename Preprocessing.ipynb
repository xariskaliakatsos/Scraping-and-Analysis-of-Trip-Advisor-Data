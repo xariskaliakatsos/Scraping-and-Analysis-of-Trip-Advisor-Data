{
 "cells": [
  {
   "cell_type": "code",
   "execution_count": 1,
   "id": "7b2356f2",
   "metadata": {},
   "outputs": [
    {
     "name": "stderr",
     "output_type": "stream",
     "text": [
      "[nltk_data] Downloading package punkt to\n",
      "[nltk_data]     C:\\Users\\vasil\\AppData\\Roaming\\nltk_data...\n",
      "[nltk_data]   Unzipping tokenizers\\punkt.zip.\n",
      "[nltk_data] Downloading package stopwords to\n",
      "[nltk_data]     C:\\Users\\vasil\\AppData\\Roaming\\nltk_data...\n",
      "[nltk_data]   Unzipping corpora\\stopwords.zip.\n"
     ]
    }
   ],
   "source": [
    "#Import Libraries\n",
    "import pandas as pd\n",
    "import string\n",
    "import nltk\n",
    "from nltk import word_tokenize\n",
    "from nltk.stem import PorterStemmer\n",
    "from nltk.corpus import stopwords\n",
    "import math\n",
    "import numpy as np\n",
    "import matplotlib.pyplot as plt\n",
    "import seaborn as sns\n",
    "from pandas import Series, DataFrame\n",
    "from matplotlib import rcParams\n",
    "import pandas as pd\n",
    "from collections import Counter\n",
    "from itertools import chain\n",
    "#from wordcloud import WordCloud, STOPWORDS\n",
    "import re\n",
    "import warnings\n",
    "warnings.filterwarnings(\"ignore\")\n",
    "import collections\n",
    "import os\n",
    "from matplotlib import pyplot as plt\n",
    "import matplotlib.colors as mcolors\n",
    "rcParams['figure.figsize'] = 20,12\n",
    "ps = PorterStemmer()\n",
    "nltk.download('punkt')\n",
    "nltk.download('stopwords')\n",
    "stop = stopwords.words('english')"
   ]
  },
  {
   "cell_type": "code",
   "execution_count": 2,
   "id": "20518b3d",
   "metadata": {},
   "outputs": [],
   "source": [
    "#load the data\n",
    "reviews = pd.read_csv(r\"reviews_all_new.csv\")\n",
    "#drop unwanted column\n",
    "reviews.drop(columns = [\"Unnamed: 0\"], inplace = True)\n",
    "stop1 = ['food','good','nice','price','place','servic','restaur','visit','friendli','thessaloniki','order','great','dish','recommend','amaz','one','realli','us','serv','staff','qualiti','’','time', 'tri', 'experi', 'come', 'small', 'local', 'even', 'excel', 'reason', 'atmospher', 'best', 'love', 'enjoy', 'would', 'greek', 'well', 'also', 'fresh', 'back', 'like', 'tast', 'wine', 'definit', 'tabl', 'offer', 'menu', 'salad', 'drink', 'waiter', 'tradit', 'tasti', 'delici', 'day', 'peopl', 'go', 'meal', 'fish', 'dinner', 'eat', 'cook', 'portion', 'look', 'meat', 'citi', 'everyth', 'music', 'locat', 'lunch','town', 'warm', 'year', 'outsid', 'street', 'chicken', 'coffe', 'night', 'perfect', 'much', 'want', 'view', 'got', 'plate', 'littl', 'sea', 'expect', 'owner', 'ok', 'make', 'way', 'next', 'sit', 'wait', 'pizza', 'friend', 'cuisin', 'high', 'lot', 'differ', 'kind', 'noth', 'special', 'choic', 'decor', 'live', 'greec', 'alway', 'center', 'better', 'bread', 'ask', 'help', 'dont', 'get', 'mani', 'top', 'fantast', 'thing', 'say', 'two', 'first', 'didnt', 'busi', 'went', 'came', 'cours', 'though', 'polit', 'find', 'fast', 'end', 'grill', 'take', 'found', 'ever', 'quit', 'euro', 'wonder', 'everi', 'starter', 'bar', 'area', 'main', '2', 'full', 'hous', 'highli', 'could', 'burger', 'chees', 'made', 'big', 'valu', 'must', 'select', 'smoke', 'beauti', 'last', 'around', 'someth', 'varieti', 'money', 'feel', 'fri', 'beer', 'seafood', 'bit', 'insid', 'sure', 'worth', 'expens', 'disappoint', 'need', 'ate', 'famili', 'dessert','\\\"','”','“']"
   ]
  },
  {
   "cell_type": "markdown",
   "id": "7c802aaf",
   "metadata": {},
   "source": [
    "## Preprocessing"
   ]
  },
  {
   "cell_type": "code",
   "execution_count": 3,
   "id": "af0e4573",
   "metadata": {},
   "outputs": [],
   "source": [
    "# Remove punctuation\n",
    "reviews['Review'] = reviews['Review'].apply(lambda x:''.join([i for i in x if i not in string.punctuation]))\n",
    "#Lower case everything\n",
    "reviews['Review'] = reviews['Review'].str.lower()\n",
    "reviews['Review_Distribution'] = reviews['Review_Distribution'].str.lower()\n",
    "#Tokenize the reviews\n",
    "reviews['Review'] = reviews.apply(lambda row: nltk.word_tokenize(row['Review']), axis=1)\n",
    "#Remove stopwords\n",
    "reviews['Review'] = reviews['Review'].apply(lambda x: [item for item in x if item not in stop])\n",
    "#Stemming\n",
    "reviews['Review'] = reviews['Review'].apply(lambda x: [ps.stem(y) for y in x])\n",
    "\n",
    "#get the month\n",
    "reviews['Rating_Month'] = reviews[\"Rating_date\"].str.split(\" \").str[0]\n",
    "#get the year\n",
    "reviews['Rating_Year'] = reviews[\"Rating_date\"].str.split(\",\").str[1]\n",
    "reviews['Rating_Year'] = reviews[\"Rating_Year\"].str.replace(\" \",\"\")\n",
    "\n",
    "#Create a new dataframe that contains the reviews and remove the extra stopwords\n",
    "reviews_lda = reviews.copy()\n",
    "reviews_lda['Review'] = reviews_lda['Review'].apply(lambda x: [item for item in x if item not in stop1])"
   ]
  },
  {
   "cell_type": "code",
   "execution_count": 5,
   "id": "412be73d",
   "metadata": {},
   "outputs": [],
   "source": [
    "reviews.to_csv(\"reviews_all_preprocessed.csv\")"
   ]
  }
 ],
 "metadata": {
  "kernelspec": {
   "display_name": "Python 3 (ipykernel)",
   "language": "python",
   "name": "python3"
  },
  "language_info": {
   "codemirror_mode": {
    "name": "ipython",
    "version": 3
   },
   "file_extension": ".py",
   "mimetype": "text/x-python",
   "name": "python",
   "nbconvert_exporter": "python",
   "pygments_lexer": "ipython3",
   "version": "3.9.7"
  }
 },
 "nbformat": 4,
 "nbformat_minor": 5
}
